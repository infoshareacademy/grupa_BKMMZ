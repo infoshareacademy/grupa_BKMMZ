{
 "cells": [
  {
   "cell_type": "markdown",
   "metadata": {},
   "source": [
    "Y\n",
    "Civilian_Casualties [0-1]\n",
    "### Drop\n",
    "Business_Impact\n",
    "Estimated_Dollar_Loss\n",
    "Estimated Number Of Persons Displaced\n",
    "Ext_agent_app_or_defer_time\n",
    "Last_TFS_Unit_Clear_Time\n",
    "Optional - not in the model - kept in dataset\n",
    "Smoke_Alarm_at_Fire_Origin_Alarm_Failure\n",
    "Smoke_Alarm_at_Fire_Origin_Alarm_Type\n",
    "Fire_Under_Control_Time\n",
    "TFS_Arrival_Time\n",
    "TFS_Alarm_Time\n",
    "\n",
    "### Included\n",
    "Area_of_Origin [label encoding]\n",
    "Count_of_Persons_Rescued\n",
    "Extent_Of_Fire [label encoding]\n",
    "Fire_Alarm_System_Impact_on_Evacuation [label encoding]\n",
    "Fire_Alarm_System_Operation [0-1]\n",
    "Fire_Alarm_System_Presence [0-1]\n",
    "Fire_Under_Control_Time - TFS_Arrival_Time\n",
    "Ignition_Source [label encoding]\n",
    "Incident_Station_Area\n",
    "Incident_Ward\n",
    "Latitude\n",
    "Longitude\n",
    "Material_First_Ignited [label encoding]\n",
    "Method_Of_Fire_Control [label encoding]\n",
    "Possible_Cause [label encoding]\n",
    "Property_Use [business vs non-business]\n",
    "Status_of_Fire_On_Arrival [label encoding]\n",
    "TFS_Arrival_Time - TFS_Alarm_Time"
   ]
  }
 ],
 "metadata": {
  "language_info": {
   "name": "python"
  }
 },
 "nbformat": 4,
 "nbformat_minor": 2
}
