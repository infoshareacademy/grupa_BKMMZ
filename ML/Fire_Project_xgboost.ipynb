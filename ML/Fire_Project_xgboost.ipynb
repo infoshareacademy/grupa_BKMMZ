{
 "cells": [
  {
   "cell_type": "markdown",
   "metadata": {},
   "source": [
    "# Temat: Pali się\n",
    "\n",
    "https://www.kaggle.com/datasets/gatandubuc/public-transport-traffic-data-in-france\n",
    "\n",
    "## Cel -> wykrycie sytuacji w której pożar zagraża ludziom\n",
    "\n",
    "## Stakeholder -> straż pożarna pracująca nad systemem wczesnego ostrzegania oraz reagowania na zagrożenia pożarowe\n",
    "\n",
    "\n",
    "\n",
    "#### Doczytać o niezbilansowanych zbiorach danych\n",
    "#### [przegląd różnych metod]\n",
    "#### Test - zbudować model bez żadnego bilansowania\n",
    "#### Benchmark - zrobienie minimum i zbudowanie modelu benchmarkowego [usunięcie braków, zamiana zmiennych kategorycznych]\n",
    "#### Zmienne kategoryczne - zacząć od label encodingu AS-IS, w drugiej kolejności ewentualnie zrobić grupowanie"
   ]
  },
  {
   "cell_type": "code",
   "execution_count": 10,
   "metadata": {},
   "outputs": [],
   "source": [
    "import pandas as pd\n",
    "import matplotlib.pyplot as plt\n",
    "import seaborn as sns\n",
    "\n",
    "from sklearn.ensemble import RandomForestClassifier\n",
    "from sklearn.model_selection import train_test_split\n",
    "from sklearn.tree import DecisionTreeClassifier, plot_tree\n",
    "from sklearn.linear_model import LogisticRegression\n",
    "from sklearn.preprocessing import LabelEncoder, StandardScaler\n",
    "from sklearn.metrics import RocCurveDisplay, ConfusionMatrixDisplay, accuracy_score, classification_report, confusion_matrix\n",
    "from sklearn.metrics import roc_curve, auc \n",
    "\n",
    "import Functions_ML as my_functions\n",
    "\n",
    "%matplotlib inline"
   ]
  },
  {
   "cell_type": "code",
   "execution_count": 11,
   "metadata": {},
   "outputs": [],
   "source": [
    "df = pd.read_csv('Fire-Incidents.csv')\n",
    "\n",
    "pd.set_option('display.max_columns', None)"
   ]
  },
  {
   "cell_type": "markdown",
   "metadata": {},
   "source": [
    "### Remove unnecessary columns"
   ]
  },
  {
   "cell_type": "code",
   "execution_count": 12,
   "metadata": {},
   "outputs": [
    {
     "name": "stdout",
     "output_type": "stream",
     "text": [
      "<class 'pandas.core.frame.DataFrame'>\n",
      "RangeIndex: 11214 entries, 0 to 11213\n",
      "Data columns (total 22 columns):\n",
      " #   Column                                    Non-Null Count  Dtype  \n",
      "---  ------                                    --------------  -----  \n",
      " 0   Area_of_Origin                            11214 non-null  object \n",
      " 1   Civilian_Casualties                       11214 non-null  int64  \n",
      " 2   Count_of_Persons_Rescued                  11214 non-null  int64  \n",
      " 3   Extent_Of_Fire                            11214 non-null  object \n",
      " 4   Fire_Alarm_System_Impact_on_Evacuation    11214 non-null  object \n",
      " 5   Fire_Alarm_System_Operation               11214 non-null  object \n",
      " 6   Fire_Alarm_System_Presence                11214 non-null  object \n",
      " 7   Fire_Under_Control_Time                   11214 non-null  object \n",
      " 8   Ignition_Source                           11214 non-null  object \n",
      " 9   Incident_Station_Area                     11214 non-null  int64  \n",
      " 10  Incident_Ward                             11181 non-null  float64\n",
      " 11  Latitude                                  11214 non-null  float64\n",
      " 12  Longitude                                 11214 non-null  float64\n",
      " 13  Material_First_Ignited                    11214 non-null  object \n",
      " 14  Method_Of_Fire_Control                    11214 non-null  object \n",
      " 15  Possible_Cause                            11214 non-null  object \n",
      " 16  Property_Use                              11214 non-null  object \n",
      " 17  Smoke_Alarm_at_Fire_Origin_Alarm_Failure  11214 non-null  object \n",
      " 18  Smoke_Alarm_at_Fire_Origin_Alarm_Type     11214 non-null  object \n",
      " 19  Status_of_Fire_On_Arrival                 11214 non-null  object \n",
      " 20  TFS_Alarm_Time                            11214 non-null  object \n",
      " 21  TFS_Arrival_Time                          11214 non-null  object \n",
      "dtypes: float64(3), int64(3), object(16)\n",
      "memory usage: 1.9+ MB\n"
     ]
    }
   ],
   "source": [
    "col_to_drop = ['Business_Impact', 'Estimated_Dollar_Loss', 'Estimated_Number_Of_Persons_Displaced',\n",
    "                'Ext_agent_app_or_defer_time', 'Last_TFS_Unit_Clear_Time']\n",
    "\n",
    "df = df.drop(columns = col_to_drop, axis = 1)\n",
    "\n",
    "df.info()"
   ]
  },
  {
   "cell_type": "code",
   "execution_count": 13,
   "metadata": {},
   "outputs": [
    {
     "data": {
      "text/plain": [
       "Area_of_Origin                               0\n",
       "Civilian_Casualties                          0\n",
       "Count_of_Persons_Rescued                     0\n",
       "Extent_Of_Fire                               0\n",
       "Fire_Alarm_System_Impact_on_Evacuation       0\n",
       "Fire_Alarm_System_Operation                  0\n",
       "Fire_Alarm_System_Presence                   0\n",
       "Fire_Under_Control_Time                      0\n",
       "Ignition_Source                              0\n",
       "Incident_Station_Area                        0\n",
       "Incident_Ward                               33\n",
       "Latitude                                     0\n",
       "Longitude                                    0\n",
       "Material_First_Ignited                       0\n",
       "Method_Of_Fire_Control                       0\n",
       "Possible_Cause                               0\n",
       "Property_Use                                 0\n",
       "Smoke_Alarm_at_Fire_Origin_Alarm_Failure     0\n",
       "Smoke_Alarm_at_Fire_Origin_Alarm_Type        0\n",
       "Status_of_Fire_On_Arrival                    0\n",
       "TFS_Alarm_Time                               0\n",
       "TFS_Arrival_Time                             0\n",
       "dtype: int64"
      ]
     },
     "execution_count": 13,
     "metadata": {},
     "output_type": "execute_result"
    }
   ],
   "source": [
    "df.isna().sum()"
   ]
  },
  {
   "cell_type": "code",
   "execution_count": 14,
   "metadata": {},
   "outputs": [],
   "source": [
    "df.dropna(inplace = True)"
   ]
  },
  {
   "cell_type": "code",
   "execution_count": 15,
   "metadata": {},
   "outputs": [],
   "source": [
    "df['TFS_Alarm_Time'] = pd.to_datetime(df['TFS_Alarm_Time'])\n",
    "df['TFS_Arrival_Time'] = pd.to_datetime(df['TFS_Arrival_Time'])"
   ]
  },
  {
   "cell_type": "code",
   "execution_count": 16,
   "metadata": {},
   "outputs": [
    {
     "name": "stdout",
     "output_type": "stream",
     "text": [
      "<class 'pandas.core.frame.DataFrame'>\n",
      "Index: 11181 entries, 0 to 11213\n",
      "Data columns (total 22 columns):\n",
      " #   Column                                    Non-Null Count  Dtype         \n",
      "---  ------                                    --------------  -----         \n",
      " 0   Area_of_Origin                            11181 non-null  object        \n",
      " 1   Civilian_Casualties                       11181 non-null  int64         \n",
      " 2   Count_of_Persons_Rescued                  11181 non-null  int64         \n",
      " 3   Extent_Of_Fire                            11181 non-null  object        \n",
      " 4   Fire_Alarm_System_Impact_on_Evacuation    11181 non-null  object        \n",
      " 5   Fire_Alarm_System_Operation               11181 non-null  object        \n",
      " 6   Fire_Alarm_System_Presence                11181 non-null  object        \n",
      " 7   Fire_Under_Control_Time                   11181 non-null  object        \n",
      " 8   Ignition_Source                           11181 non-null  object        \n",
      " 9   Incident_Station_Area                     11181 non-null  int64         \n",
      " 10  Incident_Ward                             11181 non-null  float64       \n",
      " 11  Latitude                                  11181 non-null  float64       \n",
      " 12  Longitude                                 11181 non-null  float64       \n",
      " 13  Material_First_Ignited                    11181 non-null  object        \n",
      " 14  Method_Of_Fire_Control                    11181 non-null  object        \n",
      " 15  Possible_Cause                            11181 non-null  object        \n",
      " 16  Property_Use                              11181 non-null  object        \n",
      " 17  Smoke_Alarm_at_Fire_Origin_Alarm_Failure  11181 non-null  object        \n",
      " 18  Smoke_Alarm_at_Fire_Origin_Alarm_Type     11181 non-null  object        \n",
      " 19  Status_of_Fire_On_Arrival                 11181 non-null  object        \n",
      " 20  TFS_Alarm_Time                            11181 non-null  datetime64[ns]\n",
      " 21  TFS_Arrival_Time                          11181 non-null  datetime64[ns]\n",
      "dtypes: datetime64[ns](2), float64(3), int64(3), object(14)\n",
      "memory usage: 2.0+ MB\n"
     ]
    }
   ],
   "source": [
    "df.info()"
   ]
  },
  {
   "cell_type": "code",
   "execution_count": 17,
   "metadata": {},
   "outputs": [],
   "source": [
    "df.loc[df['Civilian_Casualties'] >= 1, 'Civilian_Casualties'] = 1"
   ]
  },
  {
   "cell_type": "code",
   "execution_count": 18,
   "metadata": {},
   "outputs": [
    {
     "data": {
      "text/html": [
       "<div>\n",
       "<style scoped>\n",
       "    .dataframe tbody tr th:only-of-type {\n",
       "        vertical-align: middle;\n",
       "    }\n",
       "\n",
       "    .dataframe tbody tr th {\n",
       "        vertical-align: top;\n",
       "    }\n",
       "\n",
       "    .dataframe thead th {\n",
       "        text-align: right;\n",
       "    }\n",
       "</style>\n",
       "<table border=\"1\" class=\"dataframe\">\n",
       "  <thead>\n",
       "    <tr style=\"text-align: right;\">\n",
       "      <th></th>\n",
       "      <th>Area_of_Origin</th>\n",
       "      <th>Civilian_Casualties</th>\n",
       "      <th>Count_of_Persons_Rescued</th>\n",
       "      <th>Extent_Of_Fire</th>\n",
       "      <th>Fire_Alarm_System_Impact_on_Evacuation</th>\n",
       "      <th>Fire_Alarm_System_Operation</th>\n",
       "      <th>Fire_Alarm_System_Presence</th>\n",
       "      <th>Fire_Under_Control_Time</th>\n",
       "      <th>Ignition_Source</th>\n",
       "      <th>Incident_Station_Area</th>\n",
       "      <th>Incident_Ward</th>\n",
       "      <th>Latitude</th>\n",
       "      <th>Longitude</th>\n",
       "      <th>Material_First_Ignited</th>\n",
       "      <th>Method_Of_Fire_Control</th>\n",
       "      <th>Possible_Cause</th>\n",
       "      <th>Property_Use</th>\n",
       "      <th>Smoke_Alarm_at_Fire_Origin_Alarm_Failure</th>\n",
       "      <th>Smoke_Alarm_at_Fire_Origin_Alarm_Type</th>\n",
       "      <th>Status_of_Fire_On_Arrival</th>\n",
       "      <th>TFS_Alarm_Time</th>\n",
       "      <th>TFS_Arrival_Time</th>\n",
       "    </tr>\n",
       "  </thead>\n",
       "  <tbody>\n",
       "    <tr>\n",
       "      <th>0</th>\n",
       "      <td>Porch or Balcony</td>\n",
       "      <td>0</td>\n",
       "      <td>86</td>\n",
       "      <td>Confined to object of origin</td>\n",
       "      <td>Not applicable: Occupant(s) first alerted by o...</td>\n",
       "      <td>Fire alarm system did not operate</td>\n",
       "      <td>Fire alarm system present</td>\n",
       "      <td>2018-08-24T17:06:28</td>\n",
       "      <td>Undetermined</td>\n",
       "      <td>114</td>\n",
       "      <td>18.0</td>\n",
       "      <td>43.760357</td>\n",
       "      <td>-79.412479</td>\n",
       "      <td>Undetermined (formerly 98)</td>\n",
       "      <td>Extinguished by fire department</td>\n",
       "      <td>Undetermined</td>\n",
       "      <td>Multi-Unit Dwelling - Over 12 Units</td>\n",
       "      <td>Not applicable: Alarm operated OR presence/ope...</td>\n",
       "      <td>Hardwired (standalone)</td>\n",
       "      <td>Fire with smoke showing only - including vehic...</td>\n",
       "      <td>2018-08-24 16:49:36</td>\n",
       "      <td>2018-08-24 16:54:09</td>\n",
       "    </tr>\n",
       "    <tr>\n",
       "      <th>1</th>\n",
       "      <td>Cooking Area or Kitchen</td>\n",
       "      <td>0</td>\n",
       "      <td>28</td>\n",
       "      <td>Confined to part of room/area of origin</td>\n",
       "      <td>Not applicable: Occupant(s) first alerted by o...</td>\n",
       "      <td>Fire alarm system operated</td>\n",
       "      <td>Fire alarm system present</td>\n",
       "      <td>2018-11-24T07:19:00</td>\n",
       "      <td>Other Cooking Items (eg Toaster, Kettle, elec ...</td>\n",
       "      <td>142</td>\n",
       "      <td>7.0</td>\n",
       "      <td>43.754542</td>\n",
       "      <td>-79.530419</td>\n",
       "      <td>Plastic</td>\n",
       "      <td>Extinguished by occupant</td>\n",
       "      <td>Under Investigation</td>\n",
       "      <td>Infirmary</td>\n",
       "      <td>Not applicable: Alarm operated OR presence/ope...</td>\n",
       "      <td>Interconnected</td>\n",
       "      <td>Fire extinguished prior to arrival</td>\n",
       "      <td>2018-11-24 07:09:12</td>\n",
       "      <td>2018-11-24 07:14:23</td>\n",
       "    </tr>\n",
       "    <tr>\n",
       "      <th>2</th>\n",
       "      <td>Living Area (e.g. living, TV, recreation, etc)</td>\n",
       "      <td>1</td>\n",
       "      <td>16</td>\n",
       "      <td>Spread beyond room of origin, same floor</td>\n",
       "      <td>Some persons (at risk) evacuated as a result o...</td>\n",
       "      <td>Fire alarm system operated</td>\n",
       "      <td>Fire alarm system present</td>\n",
       "      <td>2017-02-09T18:36:21</td>\n",
       "      <td>Undetermined</td>\n",
       "      <td>325</td>\n",
       "      <td>27.0</td>\n",
       "      <td>43.657300</td>\n",
       "      <td>-79.373460</td>\n",
       "      <td>Undetermined (formerly 98)</td>\n",
       "      <td>Extinguished by fire department</td>\n",
       "      <td>Undetermined</td>\n",
       "      <td>Multi-Unit Dwelling - Over 12 Units</td>\n",
       "      <td>Not applicable: Alarm operated OR presence/ope...</td>\n",
       "      <td>Hardwired (standalone)</td>\n",
       "      <td>Flames showing from small area (one storey or ...</td>\n",
       "      <td>2017-02-09 17:45:07</td>\n",
       "      <td>2017-02-09 17:48:49</td>\n",
       "    </tr>\n",
       "    <tr>\n",
       "      <th>3</th>\n",
       "      <td>Undetermined  (formerly 98)</td>\n",
       "      <td>0</td>\n",
       "      <td>12</td>\n",
       "      <td>Entire Structure</td>\n",
       "      <td>Undetermined</td>\n",
       "      <td>Fire alarm system operation undetermined</td>\n",
       "      <td>Undetermined</td>\n",
       "      <td>2012-10-30T01:28:48</td>\n",
       "      <td>Undetermined</td>\n",
       "      <td>332</td>\n",
       "      <td>20.0</td>\n",
       "      <td>43.649350</td>\n",
       "      <td>-79.393700</td>\n",
       "      <td>Undetermined (formerly 98)</td>\n",
       "      <td>Extinguished by fire department</td>\n",
       "      <td>Undetermined</td>\n",
       "      <td>Clothing Store, Accessories, fur</td>\n",
       "      <td>Not applicable: Alarm operated OR presence/ope...</td>\n",
       "      <td>Type undetermined</td>\n",
       "      <td>Flames showing from large area (more than one ...</td>\n",
       "      <td>2012-10-30 00:42:01</td>\n",
       "      <td>2012-10-30 00:44:58</td>\n",
       "    </tr>\n",
       "    <tr>\n",
       "      <th>4</th>\n",
       "      <td>Sleeping Area or Bedroom (inc. patients room, ...</td>\n",
       "      <td>1</td>\n",
       "      <td>11</td>\n",
       "      <td>Spread beyond room of origin, same floor</td>\n",
       "      <td>Some persons (at risk) evacuated as a result o...</td>\n",
       "      <td>Fire alarm system operated</td>\n",
       "      <td>Fire alarm system present</td>\n",
       "      <td>2018-07-08T04:38:28</td>\n",
       "      <td>Matches or Lighters (unable to distinguish)</td>\n",
       "      <td>442</td>\n",
       "      <td>5.0</td>\n",
       "      <td>43.697960</td>\n",
       "      <td>-79.511539</td>\n",
       "      <td>Bedding</td>\n",
       "      <td>Extinguished by fire department</td>\n",
       "      <td>Suspected Arson</td>\n",
       "      <td>Multi-Unit Dwelling - Over 12 Units</td>\n",
       "      <td>Not applicable: Alarm operated OR presence/ope...</td>\n",
       "      <td>Interconnected</td>\n",
       "      <td>Fire with no evidence from street</td>\n",
       "      <td>2018-07-08 04:08:50</td>\n",
       "      <td>2018-07-08 04:13:54</td>\n",
       "    </tr>\n",
       "  </tbody>\n",
       "</table>\n",
       "</div>"
      ],
      "text/plain": [
       "                                      Area_of_Origin  Civilian_Casualties  \\\n",
       "0                                   Porch or Balcony                    0   \n",
       "1                            Cooking Area or Kitchen                    0   \n",
       "2     Living Area (e.g. living, TV, recreation, etc)                    1   \n",
       "3                        Undetermined  (formerly 98)                    0   \n",
       "4  Sleeping Area or Bedroom (inc. patients room, ...                    1   \n",
       "\n",
       "   Count_of_Persons_Rescued                            Extent_Of_Fire  \\\n",
       "0                        86              Confined to object of origin   \n",
       "1                        28   Confined to part of room/area of origin   \n",
       "2                        16  Spread beyond room of origin, same floor   \n",
       "3                        12                          Entire Structure   \n",
       "4                        11  Spread beyond room of origin, same floor   \n",
       "\n",
       "              Fire_Alarm_System_Impact_on_Evacuation  \\\n",
       "0  Not applicable: Occupant(s) first alerted by o...   \n",
       "1  Not applicable: Occupant(s) first alerted by o...   \n",
       "2  Some persons (at risk) evacuated as a result o...   \n",
       "3                                       Undetermined   \n",
       "4  Some persons (at risk) evacuated as a result o...   \n",
       "\n",
       "                Fire_Alarm_System_Operation Fire_Alarm_System_Presence  \\\n",
       "0         Fire alarm system did not operate  Fire alarm system present   \n",
       "1                Fire alarm system operated  Fire alarm system present   \n",
       "2                Fire alarm system operated  Fire alarm system present   \n",
       "3  Fire alarm system operation undetermined               Undetermined   \n",
       "4                Fire alarm system operated  Fire alarm system present   \n",
       "\n",
       "  Fire_Under_Control_Time                                    Ignition_Source  \\\n",
       "0     2018-08-24T17:06:28                                       Undetermined   \n",
       "1     2018-11-24T07:19:00  Other Cooking Items (eg Toaster, Kettle, elec ...   \n",
       "2     2017-02-09T18:36:21                                       Undetermined   \n",
       "3     2012-10-30T01:28:48                                       Undetermined   \n",
       "4     2018-07-08T04:38:28        Matches or Lighters (unable to distinguish)   \n",
       "\n",
       "   Incident_Station_Area  Incident_Ward   Latitude  Longitude  \\\n",
       "0                    114           18.0  43.760357 -79.412479   \n",
       "1                    142            7.0  43.754542 -79.530419   \n",
       "2                    325           27.0  43.657300 -79.373460   \n",
       "3                    332           20.0  43.649350 -79.393700   \n",
       "4                    442            5.0  43.697960 -79.511539   \n",
       "\n",
       "       Material_First_Ignited           Method_Of_Fire_Control  \\\n",
       "0  Undetermined (formerly 98)  Extinguished by fire department   \n",
       "1                     Plastic         Extinguished by occupant   \n",
       "2  Undetermined (formerly 98)  Extinguished by fire department   \n",
       "3  Undetermined (formerly 98)  Extinguished by fire department   \n",
       "4                     Bedding  Extinguished by fire department   \n",
       "\n",
       "        Possible_Cause                         Property_Use  \\\n",
       "0         Undetermined  Multi-Unit Dwelling - Over 12 Units   \n",
       "1  Under Investigation                            Infirmary   \n",
       "2         Undetermined  Multi-Unit Dwelling - Over 12 Units   \n",
       "3         Undetermined     Clothing Store, Accessories, fur   \n",
       "4      Suspected Arson  Multi-Unit Dwelling - Over 12 Units   \n",
       "\n",
       "            Smoke_Alarm_at_Fire_Origin_Alarm_Failure  \\\n",
       "0  Not applicable: Alarm operated OR presence/ope...   \n",
       "1  Not applicable: Alarm operated OR presence/ope...   \n",
       "2  Not applicable: Alarm operated OR presence/ope...   \n",
       "3  Not applicable: Alarm operated OR presence/ope...   \n",
       "4  Not applicable: Alarm operated OR presence/ope...   \n",
       "\n",
       "  Smoke_Alarm_at_Fire_Origin_Alarm_Type  \\\n",
       "0                Hardwired (standalone)   \n",
       "1                        Interconnected   \n",
       "2                Hardwired (standalone)   \n",
       "3                     Type undetermined   \n",
       "4                        Interconnected   \n",
       "\n",
       "                           Status_of_Fire_On_Arrival      TFS_Alarm_Time  \\\n",
       "0  Fire with smoke showing only - including vehic... 2018-08-24 16:49:36   \n",
       "1                 Fire extinguished prior to arrival 2018-11-24 07:09:12   \n",
       "2  Flames showing from small area (one storey or ... 2017-02-09 17:45:07   \n",
       "3  Flames showing from large area (more than one ... 2012-10-30 00:42:01   \n",
       "4                  Fire with no evidence from street 2018-07-08 04:08:50   \n",
       "\n",
       "     TFS_Arrival_Time  \n",
       "0 2018-08-24 16:54:09  \n",
       "1 2018-11-24 07:14:23  \n",
       "2 2017-02-09 17:48:49  \n",
       "3 2012-10-30 00:44:58  \n",
       "4 2018-07-08 04:13:54  "
      ]
     },
     "execution_count": 18,
     "metadata": {},
     "output_type": "execute_result"
    }
   ],
   "source": [
    "df.head()"
   ]
  },
  {
   "cell_type": "code",
   "execution_count": 26,
   "metadata": {},
   "outputs": [
    {
     "data": {
      "text/plain": [
       "Civilian_Casualties\n",
       "0    10233\n",
       "1      948\n",
       "Name: count, dtype: int64"
      ]
     },
     "execution_count": 26,
     "metadata": {},
     "output_type": "execute_result"
    }
   ],
   "source": [
    "df['Civilian_Casualties'].value_counts()\n"
   ]
  },
  {
   "cell_type": "code",
   "execution_count": 27,
   "metadata": {},
   "outputs": [
    {
     "data": {
      "text/plain": [
       "Property_Use\n",
       "Multi-Unit Dwelling - Over 12 Units                              3716\n",
       "Detached Dwelling                                                2309\n",
       "Semi-Detached Dwelling                                            727\n",
       "Attached Dwelling (eg. rowhouse, townhouse, etc.)                 577\n",
       "Multi-Unit Dwelling - 2 to 6 Units                                279\n",
       "Apartment, Flat, Tenement with Business                           276\n",
       "Restaurants (occupant load greater than 30 persons, licensed)     229\n",
       "Restaurant (occupant load less than 30 persons)                   164\n",
       "Multi-Unit Dwelling - 7 to 12 Units                               145\n",
       "Detached Garage                                                   134\n",
       "Subway Station                                                    131\n",
       "Rooming/Boarding/Lodging House                                    121\n",
       "General Business Office                                           119\n",
       "Motor Vehicle Repair Garage                                       113\n",
       "Other Business or Personal Services                                88\n",
       "Attached Dwelling with Business                                    75\n",
       "Hotel, Motel, Lodging - 4 or more guests or suites                 60\n",
       "Garage:  General Auto Parking - Structure                          56\n",
       "Mall - public area common to multi store facility                  56\n",
       "School - Elementary                                                51\n",
       "Mfg: Secondary Processing (eg finished goods, furniture, etc)      46\n",
       "Mfg: Pulp, Paper Processing                                        44\n",
       "Bar, Tavern, Night Club                                            44\n",
       "Laundry, Dry Cleaner (includes self-service)                       43\n",
       "Mfg: Other Wood, Furniture, Paper Products, Printing               42\n",
       "Name: count, dtype: int64"
      ]
     },
     "execution_count": 27,
     "metadata": {},
     "output_type": "execute_result"
    }
   ],
   "source": [
    "df['Property_Use'].value_counts().head(25)"
   ]
  },
  {
   "cell_type": "markdown",
   "metadata": {},
   "source": [
    "### Calculating the time when the fire brigade arrived"
   ]
  },
  {
   "cell_type": "code",
   "execution_count": 28,
   "metadata": {},
   "outputs": [],
   "source": [
    "df['Response'] = (df['TFS_Arrival_Time'] - df['TFS_Alarm_Time']) / pd.Timedelta(minutes = 1)"
   ]
  },
  {
   "cell_type": "code",
   "execution_count": 29,
   "metadata": {},
   "outputs": [
    {
     "name": "stdout",
     "output_type": "stream",
     "text": [
      "<class 'pandas.core.frame.DataFrame'>\n",
      "Index: 11181 entries, 0 to 11213\n",
      "Data columns (total 23 columns):\n",
      " #   Column                                    Non-Null Count  Dtype         \n",
      "---  ------                                    --------------  -----         \n",
      " 0   Area_of_Origin                            11181 non-null  int64         \n",
      " 1   Civilian_Casualties                       11181 non-null  int64         \n",
      " 2   Count_of_Persons_Rescued                  11181 non-null  int64         \n",
      " 3   Extent_Of_Fire                            11181 non-null  int64         \n",
      " 4   Fire_Alarm_System_Impact_on_Evacuation    11181 non-null  int64         \n",
      " 5   Fire_Alarm_System_Operation               11181 non-null  object        \n",
      " 6   Fire_Alarm_System_Presence                11181 non-null  object        \n",
      " 7   Fire_Under_Control_Time                   11181 non-null  object        \n",
      " 8   Ignition_Source                           11181 non-null  int64         \n",
      " 9   Incident_Station_Area                     11181 non-null  int64         \n",
      " 10  Incident_Ward                             11181 non-null  float64       \n",
      " 11  Latitude                                  11181 non-null  float64       \n",
      " 12  Longitude                                 11181 non-null  float64       \n",
      " 13  Material_First_Ignited                    11181 non-null  int64         \n",
      " 14  Method_Of_Fire_Control                    11181 non-null  int64         \n",
      " 15  Possible_Cause                            11181 non-null  int64         \n",
      " 16  Property_Use                              11181 non-null  object        \n",
      " 17  Smoke_Alarm_at_Fire_Origin_Alarm_Failure  11181 non-null  object        \n",
      " 18  Smoke_Alarm_at_Fire_Origin_Alarm_Type     11181 non-null  object        \n",
      " 19  Status_of_Fire_On_Arrival                 11181 non-null  int64         \n",
      " 20  TFS_Alarm_Time                            11181 non-null  datetime64[ns]\n",
      " 21  TFS_Arrival_Time                          11181 non-null  datetime64[ns]\n",
      " 22  Response                                  11181 non-null  float64       \n",
      "dtypes: datetime64[ns](2), float64(4), int64(11), object(6)\n",
      "memory usage: 2.0+ MB\n"
     ]
    }
   ],
   "source": [
    "df.info()"
   ]
  },
  {
   "cell_type": "markdown",
   "metadata": {},
   "source": [
    "### Set 'Property_use' string value 'Business' or 'Non-Business' based on Dwelling"
   ]
  },
  {
   "cell_type": "code",
   "execution_count": null,
   "metadata": {},
   "outputs": [],
   "source": []
  }
 ],
 "metadata": {
  "kernelspec": {
   "display_name": "Python 3",
   "language": "python",
   "name": "python3"
  },
  "language_info": {
   "codemirror_mode": {
    "name": "ipython",
    "version": 3
   },
   "file_extension": ".py",
   "mimetype": "text/x-python",
   "name": "python",
   "nbconvert_exporter": "python",
   "pygments_lexer": "ipython3",
   "version": "3.11.5"
  }
 },
 "nbformat": 4,
 "nbformat_minor": 2
}
